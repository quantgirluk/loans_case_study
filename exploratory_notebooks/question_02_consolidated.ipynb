{
 "cells": [
  {
   "cell_type": "markdown",
   "metadata": {},
   "source": [
    "Question 2: Please add the following calculated columns to the dataframe (plus any others you found helpful). \n",
    "\n",
    "Dynamic Columns (These vary by loan and by calendar month):\n",
    "\n",
    "- current_balance: The current balance outstanding for each loan and month.\n",
    "- seasoning: The integer number of months since the loan was originated at each month.\n",
    "- n_missed_payments: number of missed payments in a row.\n",
    "- prepaid_in_month: a flag indicating that the borrower prepaid in a given month.\n",
    "- default_in_month: a flag indicating that the borrower defaulted in a given month.\n",
    "- recovery_in_month: a flag indicating that a recovery has been made post-default in a given month.\n",
    "- is_recovery_payment: a flag indicating whether the associated payment has been made post-default.\n",
    "- time_to_reversion: The integer number of months until the laon reverts. This is negative if the - loan is before reversion and 0 at the month of reversion.\n",
    "- is_post_seller_purchsae_date: Is this time period after the seller purchased this loan.\n",
    "\n",
    "\n",
    "Static Columns (These vary by loan but are the same for each calendar month):\n",
    "\n",
    "- postdefault_recoveries: The cumulative recoveries post-default.\n",
    "- prepayment_date: The date that the loan prepays (or nan if it does not).\n",
    "- date_of_default: the date that the loan defaults (or nan if it does not).\n",
    "- date_of_recovery: the date that a recovery is made on the loan, post-default.\n",
    "- exposure_at_default: the current balance of the loan outstanding at default.\n",
    "- recovery_percent: the postdefault_recoveries as a percentage of the exposure at default."
   ]
  },
  {
   "cell_type": "code",
   "execution_count": 1,
   "metadata": {},
   "outputs": [],
   "source": [
    "import pandas as pd\n",
    "from case_functions import create_extended_data_portfolio\n",
    "\n",
    "import matplotlib.pyplot as plt"
   ]
  },
  {
   "cell_type": "code",
   "execution_count": 2,
   "metadata": {},
   "outputs": [
    {
     "name": "stderr",
     "output_type": "stream",
     "text": [
      "/Users/dialidsantiago/Git/strat-case-study-draft/case/case_functions.py:106: FutureWarning: The behavior of DataFrame concatenation with empty or all-NA entries is deprecated. In a future version, this will no longer exclude empty or all-NA columns when determining the result dtypes. To retain the old behavior, exclude the relevant entries before the concat operation.\n",
      "  extended_data = pd.concat(extended_subdatas)\n"
     ]
    }
   ],
   "source": [
    "test = create_extended_data_portfolio()"
   ]
  },
  {
   "cell_type": "code",
   "execution_count": 3,
   "metadata": {},
   "outputs": [
    {
     "data": {
      "text/plain": [
       "array([   1,    2,    3, ..., 1628, 1629, 1630])"
      ]
     },
     "execution_count": 3,
     "metadata": {},
     "output_type": "execute_result"
    }
   ],
   "source": [
    "test.loan_id.unique()"
   ]
  },
  {
   "cell_type": "code",
   "execution_count": 4,
   "metadata": {},
   "outputs": [
    {
     "data": {
      "text/html": [
       "<div>\n",
       "<style scoped>\n",
       "    .dataframe tbody tr th:only-of-type {\n",
       "        vertical-align: middle;\n",
       "    }\n",
       "\n",
       "    .dataframe tbody tr th {\n",
       "        vertical-align: top;\n",
       "    }\n",
       "\n",
       "    .dataframe thead th {\n",
       "        text-align: right;\n",
       "    }\n",
       "</style>\n",
       "<table border=\"1\" class=\"dataframe\">\n",
       "  <thead>\n",
       "    <tr style=\"text-align: right;\">\n",
       "      <th></th>\n",
       "      <th>loan_id</th>\n",
       "      <th>level_1</th>\n",
       "      <th>Balance</th>\n",
       "      <th>Payment_Due</th>\n",
       "      <th>Payment_Made</th>\n",
       "      <th>origination_date</th>\n",
       "      <th>investor_1_acquisition_date</th>\n",
       "      <th>reversion_date</th>\n",
       "      <th>original_balance</th>\n",
       "      <th>product</th>\n",
       "      <th>...</th>\n",
       "      <th>defaulted</th>\n",
       "      <th>not_defaulted</th>\n",
       "      <th>recovery_in_month</th>\n",
       "      <th>time_to_reversion</th>\n",
       "      <th>is_post_seller_purchsae_date</th>\n",
       "      <th>postdefault_recoveries</th>\n",
       "      <th>prepayment_date</th>\n",
       "      <th>date_of_default</th>\n",
       "      <th>exposure_at_default</th>\n",
       "      <th>recovery_percent</th>\n",
       "    </tr>\n",
       "  </thead>\n",
       "  <tbody>\n",
       "    <tr>\n",
       "      <th>38261</th>\n",
       "      <td>1500</td>\n",
       "      <td>2022-09-30</td>\n",
       "      <td>82927.0</td>\n",
       "      <td>NaN</td>\n",
       "      <td>0.000000</td>\n",
       "      <td>2022-09-30</td>\n",
       "      <td>2022-09-30</td>\n",
       "      <td>2024-09-30</td>\n",
       "      <td>82927</td>\n",
       "      <td>2</td>\n",
       "      <td>...</td>\n",
       "      <td>0</td>\n",
       "      <td>-1</td>\n",
       "      <td>False</td>\n",
       "      <td>-24</td>\n",
       "      <td>False</td>\n",
       "      <td>0.0</td>\n",
       "      <td>NaT</td>\n",
       "      <td>NaT</td>\n",
       "      <td>NaN</td>\n",
       "      <td>NaN</td>\n",
       "    </tr>\n",
       "    <tr>\n",
       "      <th>38262</th>\n",
       "      <td>1500</td>\n",
       "      <td>2022-10-31</td>\n",
       "      <td>82927.0</td>\n",
       "      <td>546.108435</td>\n",
       "      <td>546.108435</td>\n",
       "      <td>2022-09-30</td>\n",
       "      <td>2022-09-30</td>\n",
       "      <td>2024-09-30</td>\n",
       "      <td>82927</td>\n",
       "      <td>2</td>\n",
       "      <td>...</td>\n",
       "      <td>0</td>\n",
       "      <td>-1</td>\n",
       "      <td>False</td>\n",
       "      <td>-23</td>\n",
       "      <td>True</td>\n",
       "      <td>0.0</td>\n",
       "      <td>NaT</td>\n",
       "      <td>NaT</td>\n",
       "      <td>NaN</td>\n",
       "      <td>NaN</td>\n",
       "    </tr>\n",
       "    <tr>\n",
       "      <th>38263</th>\n",
       "      <td>1500</td>\n",
       "      <td>2022-11-30</td>\n",
       "      <td>82927.0</td>\n",
       "      <td>546.108435</td>\n",
       "      <td>546.108435</td>\n",
       "      <td>2022-09-30</td>\n",
       "      <td>2022-09-30</td>\n",
       "      <td>2024-09-30</td>\n",
       "      <td>82927</td>\n",
       "      <td>2</td>\n",
       "      <td>...</td>\n",
       "      <td>0</td>\n",
       "      <td>-1</td>\n",
       "      <td>False</td>\n",
       "      <td>-22</td>\n",
       "      <td>True</td>\n",
       "      <td>0.0</td>\n",
       "      <td>NaT</td>\n",
       "      <td>NaT</td>\n",
       "      <td>NaN</td>\n",
       "      <td>NaN</td>\n",
       "    </tr>\n",
       "    <tr>\n",
       "      <th>38264</th>\n",
       "      <td>1500</td>\n",
       "      <td>2022-12-31</td>\n",
       "      <td>82927.0</td>\n",
       "      <td>546.108435</td>\n",
       "      <td>546.108435</td>\n",
       "      <td>2022-09-30</td>\n",
       "      <td>2022-09-30</td>\n",
       "      <td>2024-09-30</td>\n",
       "      <td>82927</td>\n",
       "      <td>2</td>\n",
       "      <td>...</td>\n",
       "      <td>0</td>\n",
       "      <td>-1</td>\n",
       "      <td>False</td>\n",
       "      <td>-21</td>\n",
       "      <td>True</td>\n",
       "      <td>0.0</td>\n",
       "      <td>NaT</td>\n",
       "      <td>NaT</td>\n",
       "      <td>NaN</td>\n",
       "      <td>NaN</td>\n",
       "    </tr>\n",
       "  </tbody>\n",
       "</table>\n",
       "<p>4 rows × 30 columns</p>\n",
       "</div>"
      ],
      "text/plain": [
       "       loan_id    level_1  Balance  Payment_Due  Payment_Made  \\\n",
       "38261     1500 2022-09-30  82927.0          NaN      0.000000   \n",
       "38262     1500 2022-10-31  82927.0   546.108435    546.108435   \n",
       "38263     1500 2022-11-30  82927.0   546.108435    546.108435   \n",
       "38264     1500 2022-12-31  82927.0   546.108435    546.108435   \n",
       "\n",
       "      origination_date investor_1_acquisition_date reversion_date  \\\n",
       "38261       2022-09-30                  2022-09-30     2024-09-30   \n",
       "38262       2022-09-30                  2022-09-30     2024-09-30   \n",
       "38263       2022-09-30                  2022-09-30     2024-09-30   \n",
       "38264       2022-09-30                  2022-09-30     2024-09-30   \n",
       "\n",
       "       original_balance  product  ...  defaulted  not_defaulted  \\\n",
       "38261             82927        2  ...          0             -1   \n",
       "38262             82927        2  ...          0             -1   \n",
       "38263             82927        2  ...          0             -1   \n",
       "38264             82927        2  ...          0             -1   \n",
       "\n",
       "       recovery_in_month  time_to_reversion  is_post_seller_purchsae_date  \\\n",
       "38261              False                -24                         False   \n",
       "38262              False                -23                          True   \n",
       "38263              False                -22                          True   \n",
       "38264              False                -21                          True   \n",
       "\n",
       "       postdefault_recoveries  prepayment_date  date_of_default  \\\n",
       "38261                     0.0              NaT              NaT   \n",
       "38262                     0.0              NaT              NaT   \n",
       "38263                     0.0              NaT              NaT   \n",
       "38264                     0.0              NaT              NaT   \n",
       "\n",
       "       exposure_at_default  recovery_percent  \n",
       "38261                  NaN               NaN  \n",
       "38262                  NaN               NaN  \n",
       "38263                  NaN               NaN  \n",
       "38264                  NaN               NaN  \n",
       "\n",
       "[4 rows x 30 columns]"
      ]
     },
     "execution_count": 4,
     "metadata": {},
     "output_type": "execute_result"
    }
   ],
   "source": [
    "my_id = 1500\n",
    "dt = test[test.loan_id == my_id]\n",
    "dt"
   ]
  },
  {
   "cell_type": "code",
   "execution_count": 5,
   "metadata": {},
   "outputs": [
    {
     "data": {
      "image/png": "[encoded data removed]",
      "text/plain": [
       "<Figure size 640x480 with 1 Axes>"
      ]
     },
     "metadata": {},
     "output_type": "display_data"
    }
   ],
   "source": [
    "plt.plot(dt.level_1, dt.current_balance)\n",
    "plt.show()"
   ]
  },
  {
   "cell_type": "code",
   "execution_count": null,
   "metadata": {},
   "outputs": [],
   "source": []
  }
 ],
 "metadata": {
  "kernelspec": {
   "display_name": ".venv",
   "language": "python",
   "name": "python3"
  },
  "language_info": {
   "codemirror_mode": {
    "name": "ipython",
    "version": 3
   },
   "file_extension": ".py",
   "mimetype": "text/x-python",
   "name": "python",
   "nbconvert_exporter": "python",
   "pygments_lexer": "ipython3",
   "version": "3.11.9"
  }
 },
 "nbformat": 4,
 "nbformat_minor": 2
}
