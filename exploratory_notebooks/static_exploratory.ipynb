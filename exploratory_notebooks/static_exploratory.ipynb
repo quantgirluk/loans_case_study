{
 "cells": [
  {
   "cell_type": "code",
   "execution_count": 1,
   "metadata": {},
   "outputs": [],
   "source": [
    "import pandas as pd"
   ]
  },
  {
   "cell_type": "code",
   "execution_count": 2,
   "metadata": {},
   "outputs": [],
   "source": [
    "static = pd.read_excel('../data/2024_Strat_Casestudy.xlsx', sheet_name='DATA-Static', skiprows=2, usecols=\"B:I\",)"
   ]
  },
  {
   "cell_type": "code",
   "execution_count": 3,
   "metadata": {},
   "outputs": [
    {
     "data": {
      "text/html": [
       "<div>\n",
       "<style scoped>\n",
       "    .dataframe tbody tr th:only-of-type {\n",
       "        vertical-align: middle;\n",
       "    }\n",
       "\n",
       "    .dataframe tbody tr th {\n",
       "        vertical-align: top;\n",
       "    }\n",
       "\n",
       "    .dataframe thead th {\n",
       "        text-align: right;\n",
       "    }\n",
       "</style>\n",
       "<table border=\"1\" class=\"dataframe\">\n",
       "  <thead>\n",
       "    <tr style=\"text-align: right;\">\n",
       "      <th></th>\n",
       "      <th>loan_id</th>\n",
       "      <th>origination_date</th>\n",
       "      <th>investor_1_acquisition_date</th>\n",
       "      <th>reversion_date</th>\n",
       "      <th>original_balance</th>\n",
       "      <th>product</th>\n",
       "      <th>pre_reversion_fixed_rate</th>\n",
       "      <th>post_reversion_boe_margin</th>\n",
       "    </tr>\n",
       "  </thead>\n",
       "  <tbody>\n",
       "    <tr>\n",
       "      <th>0</th>\n",
       "      <td>1</td>\n",
       "      <td>2020-12-31</td>\n",
       "      <td>2020-12-31</td>\n",
       "      <td>2022-12-31</td>\n",
       "      <td>150876</td>\n",
       "      <td>1</td>\n",
       "      <td>0.019881</td>\n",
       "      <td>0.0375</td>\n",
       "    </tr>\n",
       "    <tr>\n",
       "      <th>1</th>\n",
       "      <td>2</td>\n",
       "      <td>2020-07-31</td>\n",
       "      <td>2020-12-31</td>\n",
       "      <td>2022-07-31</td>\n",
       "      <td>103580</td>\n",
       "      <td>1</td>\n",
       "      <td>0.019947</td>\n",
       "      <td>0.0375</td>\n",
       "    </tr>\n",
       "    <tr>\n",
       "      <th>2</th>\n",
       "      <td>3</td>\n",
       "      <td>2018-02-28</td>\n",
       "      <td>2020-12-31</td>\n",
       "      <td>2020-02-28</td>\n",
       "      <td>89311</td>\n",
       "      <td>1</td>\n",
       "      <td>0.029331</td>\n",
       "      <td>0.0375</td>\n",
       "    </tr>\n",
       "    <tr>\n",
       "      <th>3</th>\n",
       "      <td>4</td>\n",
       "      <td>2017-04-30</td>\n",
       "      <td>2020-12-31</td>\n",
       "      <td>2019-04-30</td>\n",
       "      <td>123170</td>\n",
       "      <td>1</td>\n",
       "      <td>0.027889</td>\n",
       "      <td>0.0375</td>\n",
       "    </tr>\n",
       "    <tr>\n",
       "      <th>4</th>\n",
       "      <td>5</td>\n",
       "      <td>2021-06-30</td>\n",
       "      <td>2021-06-30</td>\n",
       "      <td>2023-06-30</td>\n",
       "      <td>139657</td>\n",
       "      <td>1</td>\n",
       "      <td>0.019930</td>\n",
       "      <td>0.0375</td>\n",
       "    </tr>\n",
       "  </tbody>\n",
       "</table>\n",
       "</div>"
      ],
      "text/plain": [
       "   loan_id origination_date investor_1_acquisition_date reversion_date  \\\n",
       "0        1       2020-12-31                  2020-12-31     2022-12-31   \n",
       "1        2       2020-07-31                  2020-12-31     2022-07-31   \n",
       "2        3       2018-02-28                  2020-12-31     2020-02-28   \n",
       "3        4       2017-04-30                  2020-12-31     2019-04-30   \n",
       "4        5       2021-06-30                  2021-06-30     2023-06-30   \n",
       "\n",
       "   original_balance  product  pre_reversion_fixed_rate  \\\n",
       "0            150876        1                  0.019881   \n",
       "1            103580        1                  0.019947   \n",
       "2             89311        1                  0.029331   \n",
       "3            123170        1                  0.027889   \n",
       "4            139657        1                  0.019930   \n",
       "\n",
       "   post_reversion_boe_margin  \n",
       "0                     0.0375  \n",
       "1                     0.0375  \n",
       "2                     0.0375  \n",
       "3                     0.0375  \n",
       "4                     0.0375  "
      ]
     },
     "execution_count": 3,
     "metadata": {},
     "output_type": "execute_result"
    }
   ],
   "source": [
    "static.head()"
   ]
  },
  {
   "cell_type": "code",
   "execution_count": 4,
   "metadata": {},
   "outputs": [
    {
     "data": {
      "text/html": [
       "<div>\n",
       "<style scoped>\n",
       "    .dataframe tbody tr th:only-of-type {\n",
       "        vertical-align: middle;\n",
       "    }\n",
       "\n",
       "    .dataframe tbody tr th {\n",
       "        vertical-align: top;\n",
       "    }\n",
       "\n",
       "    .dataframe thead th {\n",
       "        text-align: right;\n",
       "    }\n",
       "</style>\n",
       "<table border=\"1\" class=\"dataframe\">\n",
       "  <thead>\n",
       "    <tr style=\"text-align: right;\">\n",
       "      <th></th>\n",
       "      <th>loan_id</th>\n",
       "      <th>origination_date</th>\n",
       "      <th>investor_1_acquisition_date</th>\n",
       "      <th>reversion_date</th>\n",
       "      <th>original_balance</th>\n",
       "      <th>product</th>\n",
       "      <th>pre_reversion_fixed_rate</th>\n",
       "      <th>post_reversion_boe_margin</th>\n",
       "    </tr>\n",
       "  </thead>\n",
       "  <tbody>\n",
       "    <tr>\n",
       "      <th>count</th>\n",
       "      <td>1630.000000</td>\n",
       "      <td>1630</td>\n",
       "      <td>1630</td>\n",
       "      <td>1630</td>\n",
       "      <td>1630.000000</td>\n",
       "      <td>1630.000000</td>\n",
       "      <td>1630.000000</td>\n",
       "      <td>1630.000000</td>\n",
       "    </tr>\n",
       "    <tr>\n",
       "      <th>mean</th>\n",
       "      <td>815.500000</td>\n",
       "      <td>2020-11-25 05:25:06.257668864</td>\n",
       "      <td>2021-08-02 02:03:40.858895360</td>\n",
       "      <td>2022-11-25 16:34:44.907975680</td>\n",
       "      <td>149646.721472</td>\n",
       "      <td>1.235583</td>\n",
       "      <td>0.033263</td>\n",
       "      <td>0.033377</td>\n",
       "    </tr>\n",
       "    <tr>\n",
       "      <th>min</th>\n",
       "      <td>1.000000</td>\n",
       "      <td>2016-01-31 00:00:00</td>\n",
       "      <td>2020-12-31 00:00:00</td>\n",
       "      <td>2018-01-31 00:00:00</td>\n",
       "      <td>50244.000000</td>\n",
       "      <td>1.000000</td>\n",
       "      <td>0.017019</td>\n",
       "      <td>0.020000</td>\n",
       "    </tr>\n",
       "    <tr>\n",
       "      <th>25%</th>\n",
       "      <td>408.250000</td>\n",
       "      <td>2019-11-30 00:00:00</td>\n",
       "      <td>2020-12-31 00:00:00</td>\n",
       "      <td>2021-11-30 00:00:00</td>\n",
       "      <td>100082.000000</td>\n",
       "      <td>1.000000</td>\n",
       "      <td>0.023360</td>\n",
       "      <td>0.037500</td>\n",
       "    </tr>\n",
       "    <tr>\n",
       "      <th>50%</th>\n",
       "      <td>815.500000</td>\n",
       "      <td>2021-02-28 00:00:00</td>\n",
       "      <td>2021-02-28 00:00:00</td>\n",
       "      <td>2023-02-28 00:00:00</td>\n",
       "      <td>148520.500000</td>\n",
       "      <td>1.000000</td>\n",
       "      <td>0.027635</td>\n",
       "      <td>0.037500</td>\n",
       "    </tr>\n",
       "    <tr>\n",
       "      <th>75%</th>\n",
       "      <td>1222.750000</td>\n",
       "      <td>2022-02-28 00:00:00</td>\n",
       "      <td>2022-02-28 00:00:00</td>\n",
       "      <td>2024-02-28 00:00:00</td>\n",
       "      <td>199646.500000</td>\n",
       "      <td>1.000000</td>\n",
       "      <td>0.037625</td>\n",
       "      <td>0.037500</td>\n",
       "    </tr>\n",
       "    <tr>\n",
       "      <th>max</th>\n",
       "      <td>1630.000000</td>\n",
       "      <td>2022-12-31 00:00:00</td>\n",
       "      <td>2022-12-31 00:00:00</td>\n",
       "      <td>2024-12-31 00:00:00</td>\n",
       "      <td>249978.000000</td>\n",
       "      <td>2.000000</td>\n",
       "      <td>0.079067</td>\n",
       "      <td>0.037500</td>\n",
       "    </tr>\n",
       "    <tr>\n",
       "      <th>std</th>\n",
       "      <td>470.684785</td>\n",
       "      <td>NaN</td>\n",
       "      <td>NaN</td>\n",
       "      <td>NaN</td>\n",
       "      <td>57554.798249</td>\n",
       "      <td>0.424493</td>\n",
       "      <td>0.014720</td>\n",
       "      <td>0.007429</td>\n",
       "    </tr>\n",
       "  </tbody>\n",
       "</table>\n",
       "</div>"
      ],
      "text/plain": [
       "           loan_id               origination_date  \\\n",
       "count  1630.000000                           1630   \n",
       "mean    815.500000  2020-11-25 05:25:06.257668864   \n",
       "min       1.000000            2016-01-31 00:00:00   \n",
       "25%     408.250000            2019-11-30 00:00:00   \n",
       "50%     815.500000            2021-02-28 00:00:00   \n",
       "75%    1222.750000            2022-02-28 00:00:00   \n",
       "max    1630.000000            2022-12-31 00:00:00   \n",
       "std     470.684785                            NaN   \n",
       "\n",
       "         investor_1_acquisition_date                 reversion_date  \\\n",
       "count                           1630                           1630   \n",
       "mean   2021-08-02 02:03:40.858895360  2022-11-25 16:34:44.907975680   \n",
       "min              2020-12-31 00:00:00            2018-01-31 00:00:00   \n",
       "25%              2020-12-31 00:00:00            2021-11-30 00:00:00   \n",
       "50%              2021-02-28 00:00:00            2023-02-28 00:00:00   \n",
       "75%              2022-02-28 00:00:00            2024-02-28 00:00:00   \n",
       "max              2022-12-31 00:00:00            2024-12-31 00:00:00   \n",
       "std                              NaN                            NaN   \n",
       "\n",
       "       original_balance      product  pre_reversion_fixed_rate  \\\n",
       "count       1630.000000  1630.000000               1630.000000   \n",
       "mean      149646.721472     1.235583                  0.033263   \n",
       "min        50244.000000     1.000000                  0.017019   \n",
       "25%       100082.000000     1.000000                  0.023360   \n",
       "50%       148520.500000     1.000000                  0.027635   \n",
       "75%       199646.500000     1.000000                  0.037625   \n",
       "max       249978.000000     2.000000                  0.079067   \n",
       "std        57554.798249     0.424493                  0.014720   \n",
       "\n",
       "       post_reversion_boe_margin  \n",
       "count                1630.000000  \n",
       "mean                    0.033377  \n",
       "min                     0.020000  \n",
       "25%                     0.037500  \n",
       "50%                     0.037500  \n",
       "75%                     0.037500  \n",
       "max                     0.037500  \n",
       "std                     0.007429  "
      ]
     },
     "execution_count": 4,
     "metadata": {},
     "output_type": "execute_result"
    }
   ],
   "source": [
    "static.describe()"
   ]
  },
  {
   "cell_type": "code",
   "execution_count": 5,
   "metadata": {},
   "outputs": [],
   "source": [
    "import matplotlib.pyplot as plt"
   ]
  },
  {
   "cell_type": "code",
   "execution_count": 7,
   "metadata": {},
   "outputs": [],
   "source": [
    "data =static"
   ]
  },
  {
   "cell_type": "code",
   "execution_count": 13,
   "metadata": {},
   "outputs": [
    {
     "data": {
      "image/png": "[encoded data removed]",
      "text/plain": [
       "<Figure size 640x480 with 1 Axes>"
      ]
     },
     "metadata": {},
     "output_type": "display_data"
    }
   ],
   "source": [
    "plt.plot(data.origination_date, data.investor_1_acquisition_date)\n",
    "plt.show()"
   ]
  },
  {
   "cell_type": "code",
   "execution_count": 19,
   "metadata": {},
   "outputs": [
    {
     "data": {
      "text/plain": [
       "1630"
      ]
     },
     "execution_count": 19,
     "metadata": {},
     "output_type": "execute_result"
    }
   ],
   "source": [
    "len(data)"
   ]
  },
  {
   "cell_type": "code",
   "execution_count": 21,
   "metadata": {},
   "outputs": [
    {
     "data": {
      "text/plain": [
       "np.float64(40.3732584763727)"
      ]
     },
     "execution_count": 21,
     "metadata": {},
     "output_type": "execute_result"
    }
   ],
   "source": [
    "import numpy as np\n",
    "np.sqrt(len(data))"
   ]
  },
  {
   "cell_type": "code",
   "execution_count": 39,
   "metadata": {},
   "outputs": [
    {
     "data": {
      "text/html": [
       "<div>\n",
       "<style scoped>\n",
       "    .dataframe tbody tr th:only-of-type {\n",
       "        vertical-align: middle;\n",
       "    }\n",
       "\n",
       "    .dataframe tbody tr th {\n",
       "        vertical-align: top;\n",
       "    }\n",
       "\n",
       "    .dataframe thead th {\n",
       "        text-align: right;\n",
       "    }\n",
       "</style>\n",
       "<table border=\"1\" class=\"dataframe\">\n",
       "  <thead>\n",
       "    <tr style=\"text-align: right;\">\n",
       "      <th></th>\n",
       "      <th>loan_id</th>\n",
       "      <th>origination_date</th>\n",
       "      <th>investor_1_acquisition_date</th>\n",
       "      <th>reversion_date</th>\n",
       "      <th>original_balance</th>\n",
       "      <th>pre_reversion_fixed_rate</th>\n",
       "      <th>post_reversion_boe_margin</th>\n",
       "    </tr>\n",
       "    <tr>\n",
       "      <th>product</th>\n",
       "      <th></th>\n",
       "      <th></th>\n",
       "      <th></th>\n",
       "      <th></th>\n",
       "      <th></th>\n",
       "      <th></th>\n",
       "      <th></th>\n",
       "    </tr>\n",
       "  </thead>\n",
       "  <tbody>\n",
       "    <tr>\n",
       "      <th>1</th>\n",
       "      <td>1246</td>\n",
       "      <td>1246</td>\n",
       "      <td>1246</td>\n",
       "      <td>1246</td>\n",
       "      <td>1246</td>\n",
       "      <td>1246</td>\n",
       "      <td>1246</td>\n",
       "    </tr>\n",
       "    <tr>\n",
       "      <th>2</th>\n",
       "      <td>384</td>\n",
       "      <td>384</td>\n",
       "      <td>384</td>\n",
       "      <td>384</td>\n",
       "      <td>384</td>\n",
       "      <td>384</td>\n",
       "      <td>384</td>\n",
       "    </tr>\n",
       "  </tbody>\n",
       "</table>\n",
       "</div>"
      ],
      "text/plain": [
       "         loan_id  origination_date  investor_1_acquisition_date  \\\n",
       "product                                                           \n",
       "1           1246              1246                         1246   \n",
       "2            384               384                          384   \n",
       "\n",
       "         reversion_date  original_balance  pre_reversion_fixed_rate  \\\n",
       "product                                                               \n",
       "1                  1246              1246                      1246   \n",
       "2                   384               384                       384   \n",
       "\n",
       "         post_reversion_boe_margin  \n",
       "product                             \n",
       "1                             1246  \n",
       "2                              384  "
      ]
     },
     "execution_count": 39,
     "metadata": {},
     "output_type": "execute_result"
    }
   ],
   "source": [
    "data.groupby('product').count()"
   ]
  },
  {
   "cell_type": "code",
   "execution_count": 42,
   "metadata": {},
   "outputs": [
    {
     "data": {
      "image/png": "[encoded data removed]",
      "text/plain": [
       "<Figure size 640x480 with 1 Axes>"
      ]
     },
     "metadata": {},
     "output_type": "display_data"
    }
   ],
   "source": [
    "for u in data['product'].unique():\n",
    "    subdata = data[data['product'] == u]\n",
    "    plt.hist(subdata.original_balance, density=False, bins=30, alpha=0.6, label=u)\n",
    "plt.legend()\n",
    "plt.show()"
   ]
  },
  {
   "cell_type": "code",
   "execution_count": 43,
   "metadata": {},
   "outputs": [
    {
     "data": {
      "image/png": "[encoded data removed]",
      "text/plain": [
       "<Figure size 640x480 with 1 Axes>"
      ]
     },
     "metadata": {},
     "output_type": "display_data"
    }
   ],
   "source": [
    "for u in data['product'].unique():\n",
    "    subdata = data[data['product'] == u]\n",
    "    plt.hist(subdata.original_balance, density=True, bins=30, alpha=0.6, label=u)\n",
    "plt.legend()\n",
    "plt.show()"
   ]
  },
  {
   "cell_type": "code",
   "execution_count": null,
   "metadata": {},
   "outputs": [],
   "source": []
  },
  {
   "cell_type": "code",
   "execution_count": null,
   "metadata": {},
   "outputs": [],
   "source": []
  }
 ],
 "metadata": {
  "kernelspec": {
   "display_name": ".venv",
   "language": "python",
   "name": "python3"
  },
  "language_info": {
   "codemirror_mode": {
    "name": "ipython",
    "version": 3
   },
   "file_extension": ".py",
   "mimetype": "text/x-python",
   "name": "python",
   "nbconvert_exporter": "python",
   "pygments_lexer": "ipython3",
   "version": "3.11.4"
  }
 },
 "nbformat": 4,
 "nbformat_minor": 2
}
